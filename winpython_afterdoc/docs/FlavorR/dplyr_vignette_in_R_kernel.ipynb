{
 "cells": [
  {
   "cell_type": "markdown",
   "metadata": {},
   "source": [
    "## Winpython with R : comparing DPLYR and Pandas\n",
    "\n",
    "\n",
    "It is based on the Thomas Augspurger comparison [Notebook](\n",
    "http://nbviewer.ipython.org/urls/gist.githubusercontent.com/TomAugspurger/6e052140eaa5fdb6e8c0/raw/674f99243eec162e17499eb0e2e0ee881e17b960/dplyr_pandas.ipynb)\n",
    "\n",
    "This is  the [introductory dplyr vignette](http://cran.r-project.org/web/packages/dplyr/vignettes/introduction.html) to analyze some flight data, played via an Ipython/Jupyter notebook.\n",
    "\n",
    "We just play the \"R\" code part, this time \n",
    "\n",
    "Nota: Hadley Wickham would recommand you to add more package to the list: caret, reader, shiny\n",
    "\n",
    "https://gist.github.com/hadley/820f09ded347c62c2864"
   ]
  },
  {
   "cell_type": "markdown",
   "metadata": {},
   "source": [
    "##### Transform this Markdown cell to a Code cell, if ever you need to re-feed a basic R environnement\n",
    "\n",
    "%R install.packages(\"tidyr\")\n",
    "\n",
    "%R install.packages(\"dplyr\") \n",
    "\n",
    "%R install.packages(\"ggplot2\")\n",
    "\n",
    "%R install.packages(\"rvest\")\n",
    "\n",
    "%R install.packages('RSQLite') \n",
    "\n",
    "%R install.packages(\"zoo\") \n",
    "\n",
    "%R install.packages(\"forecast\") \n",
    "\n",
    "%R install.packages('R.utils')\n",
    "\n",
    "%R install.packages(\"nycflights13\")\n",
    "\n",
    "%R install.packages('hflights')\n",
    "\n",
    "%R update.packages()"
   ]
  },
  {
   "cell_type": "code",
   "execution_count": 1,
   "metadata": {
    "collapsed": false
   },
   "outputs": [
    {
     "name": "stderr",
     "output_type": "stream",
     "text": [
      "\n",
      "Attaching package: 'dplyr'\n",
      "\n",
      "The following object is masked from 'package:stats':\n",
      "\n",
      "    filter\n",
      "\n",
      "The following objects are masked from 'package:base':\n",
      "\n",
      "    intersect, setdiff, setequal, union\n",
      "\n"
     ]
    }
   ],
   "source": [
    "library(\"dplyr\") # for functions\n",
    "library(\"nycflights13\")\n",
    "write.csv(flights, \"flights.csv\")"
   ]
  },
  {
   "cell_type": "markdown",
   "metadata": {},
   "source": [
    "# Data: nycflights13"
   ]
  },
  {
   "cell_type": "code",
   "execution_count": 2,
   "metadata": {
    "collapsed": false
   },
   "outputs": [
    {
     "data": {
      "text/plain": [
       "[1] 336776     16"
      ]
     },
     "execution_count": 2,
     "metadata": {},
     "output_type": "execute_result"
    }
   ],
   "source": [
    "dim(flights)"
   ]
  },
  {
   "cell_type": "code",
   "execution_count": 3,
   "metadata": {
    "collapsed": false
   },
   "outputs": [
    {
     "data": {
      "text/plain": [
       "Source: local data frame [6 x 16]\n",
       "\n",
       "  year month day dep_time dep_delay arr_time arr_delay carrier tailnum flight\n",
       "1 2013     1   1      517         2      830        11      UA  N14228   1545\n",
       "2 2013     1   1      533         4      850        20      UA  N24211   1714\n",
       "3 2013     1   1      542         2      923        33      AA  N619AA   1141\n",
       "4 2013     1   1      544        -1     1004       -18      B6  N804JB    725\n",
       "5 2013     1   1      554        -6      812       -25      DL  N668DN    461\n",
       "6 2013     1   1      554        -4      740        12      UA  N39463   1696\n",
       "Variables not shown: origin (chr), dest (chr), air_time (dbl), distance (dbl),\n",
       "  hour (dbl), minute (dbl)"
      ]
     },
     "execution_count": 3,
     "metadata": {},
     "output_type": "execute_result"
    }
   ],
   "source": [
    "head(flights)"
   ]
  },
  {
   "cell_type": "markdown",
   "metadata": {},
   "source": [
    "# Single table verbs"
   ]
  },
  {
   "cell_type": "markdown",
   "metadata": {},
   "source": [
    "``dplyr`` has a small set of nicely defined verbs. I've listed their closest pandas verbs.\n",
    "\n",
    "\n",
    "<table>\n",
    "  <tr>\n",
    "    <td><b>dplyr</b></td>\n",
    "    <td><b>pandas</b></td>\n",
    "  </tr>\n",
    "  <tr>\n",
    "    <td>filter() (and slice())</td>\n",
    "    <td>query() (and loc[], iloc[])</td>\n",
    "  </tr>\n",
    "  <tr>\n",
    "    <td>arrange()</td>\n",
    "    <td>sort()</td>\n",
    "  </tr>\n",
    "  <tr>\n",
    "  <td>select() (and rename())</td>\n",
    "    <td>\\_\\_getitem\\_\\_ (and rename())</td>\n",
    "  </tr>\n",
    "  <tr>\n",
    "  <td>distinct()</td>\n",
    "    <td>drop_duplicates()</td>\n",
    "  </tr>\n",
    "  <tr>\n",
    "    <td>mutate() (and transmute())</td>\n",
    "    <td>None</td>\n",
    "  </tr>\n",
    "  <tr>\n",
    "    <td>summarise()</td>\n",
    "    <td>None</td>\n",
    "  </tr>\n",
    "  <tr>\n",
    "    <td>sample_n() and sample_frac()</td>\n",
    "    <td>None</td>\n",
    "  </tr>\n",
    "</table>\n",
    "\n",
    "\n",
    "Some of the \"missing\" verbs in pandas are because there are other, different ways of achieving the same goal. For example `summarise` is spread across `mean`, `std`, etc. Others, like `sample_n`, just haven't been implemented yet."
   ]
  },
  {
   "cell_type": "markdown",
   "metadata": {},
   "source": [
    "# Filter rows with filter(), query()\n",
    "\n",
    "filter() allows you to select a subset of the rows of a data frame. The first argument is the name of the data frame, and the second and subsequent are filtering expressions evaluated in the context of that data frame:\n",
    "\n",
    "For example, we can select all flights on January 1st with:"
   ]
  },
  {
   "cell_type": "code",
   "execution_count": 4,
   "metadata": {
    "collapsed": false
   },
   "outputs": [
    {
     "data": {
      "text/plain": [
       "Source: local data frame [842 x 16]\n",
       "\n",
       "   year month day dep_time dep_delay arr_time arr_delay carrier tailnum flight\n",
       "1  2013     1   1      517         2      830        11      UA  N14228   1545\n",
       "2  2013     1   1      533         4      850        20      UA  N24211   1714\n",
       "3  2013     1   1      542         2      923        33      AA  N619AA   1141\n",
       "4  2013     1   1      544        -1     1004       -18      B6  N804JB    725\n",
       "5  2013     1   1      554        -6      812       -25      DL  N668DN    461\n",
       "6  2013     1   1      554        -4      740        12      UA  N39463   1696\n",
       "7  2013     1   1      555        -5      913        19      B6  N516JB    507\n",
       "8  2013     1   1      557        -3      709       -14      EV  N829AS   5708\n",
       "9  2013     1   1      557        -3      838        -8      B6  N593JB     79\n",
       "10 2013     1   1      558        -2      753         8      AA  N3ALAA    301\n",
       "..  ...   ... ...      ...       ...      ...       ...     ...     ...    ...\n",
       "Variables not shown: origin (chr), dest (chr), air_time (dbl), distance (dbl),\n",
       "  hour (dbl), minute (dbl)"
      ]
     },
     "execution_count": 4,
     "metadata": {},
     "output_type": "execute_result"
    }
   ],
   "source": [
    "filter(flights, month == 1, day == 1)"
   ]
  },
  {
   "cell_type": "markdown",
   "metadata": {},
   "source": [
    "The more verbose version:"
   ]
  },
  {
   "cell_type": "code",
   "execution_count": 5,
   "metadata": {
    "collapsed": false
   },
   "outputs": [
    {
     "data": {
      "text/plain": [
       "Source: local data frame [842 x 16]\n",
       "\n",
       "   year month day dep_time dep_delay arr_time arr_delay carrier tailnum flight\n",
       "1  2013     1   1      517         2      830        11      UA  N14228   1545\n",
       "2  2013     1   1      533         4      850        20      UA  N24211   1714\n",
       "3  2013     1   1      542         2      923        33      AA  N619AA   1141\n",
       "4  2013     1   1      544        -1     1004       -18      B6  N804JB    725\n",
       "5  2013     1   1      554        -6      812       -25      DL  N668DN    461\n",
       "6  2013     1   1      554        -4      740        12      UA  N39463   1696\n",
       "7  2013     1   1      555        -5      913        19      B6  N516JB    507\n",
       "8  2013     1   1      557        -3      709       -14      EV  N829AS   5708\n",
       "9  2013     1   1      557        -3      838        -8      B6  N593JB     79\n",
       "10 2013     1   1      558        -2      753         8      AA  N3ALAA    301\n",
       "..  ...   ... ...      ...       ...      ...       ...     ...     ...    ...\n",
       "Variables not shown: origin (chr), dest (chr), air_time (dbl), distance (dbl),\n",
       "  hour (dbl), minute (dbl)"
      ]
     },
     "execution_count": 5,
     "metadata": {},
     "output_type": "execute_result"
    }
   ],
   "source": [
    "flights[flights$month == 1 & flights$day == 1, ]"
   ]
  },
  {
   "cell_type": "markdown",
   "metadata": {},
   "source": [
    "filter() works similarly to subset() except that you can give it any number of filtering conditions which are joined together with & (not && which is easy to do accidentally!). You can use other boolean operators explicitly:"
   ]
  },
  {
   "cell_type": "code",
   "execution_count": 6,
   "metadata": {
    "collapsed": false
   },
   "outputs": [
    {
     "data": {
      "text/plain": [
       "Source: local data frame [51,955 x 16]\n",
       "\n",
       "   year month day dep_time dep_delay arr_time arr_delay carrier tailnum flight\n",
       "1  2013     1   1      517         2      830        11      UA  N14228   1545\n",
       "2  2013     1   1      533         4      850        20      UA  N24211   1714\n",
       "3  2013     1   1      542         2      923        33      AA  N619AA   1141\n",
       "4  2013     1   1      544        -1     1004       -18      B6  N804JB    725\n",
       "5  2013     1   1      554        -6      812       -25      DL  N668DN    461\n",
       "6  2013     1   1      554        -4      740        12      UA  N39463   1696\n",
       "7  2013     1   1      555        -5      913        19      B6  N516JB    507\n",
       "8  2013     1   1      557        -3      709       -14      EV  N829AS   5708\n",
       "9  2013     1   1      557        -3      838        -8      B6  N593JB     79\n",
       "10 2013     1   1      558        -2      753         8      AA  N3ALAA    301\n",
       "..  ...   ... ...      ...       ...      ...       ...     ...     ...    ...\n",
       "Variables not shown: origin (chr), dest (chr), air_time (dbl), distance (dbl),\n",
       "  hour (dbl), minute (dbl)"
      ]
     },
     "execution_count": 6,
     "metadata": {},
     "output_type": "execute_result"
    }
   ],
   "source": [
    "filter(flights, month == 1 | month == 2)"
   ]
  },
  {
   "cell_type": "markdown",
   "metadata": {},
   "source": [
    "####To select rows by position, use slice():"
   ]
  },
  {
   "cell_type": "code",
   "execution_count": 7,
   "metadata": {
    "collapsed": false
   },
   "outputs": [
    {
     "data": {
      "text/plain": [
       "Source: local data frame [10 x 16]\n",
       "\n",
       "   year month day dep_time dep_delay arr_time arr_delay carrier tailnum flight\n",
       "1  2013     1   1      517         2      830        11      UA  N14228   1545\n",
       "2  2013     1   1      533         4      850        20      UA  N24211   1714\n",
       "3  2013     1   1      542         2      923        33      AA  N619AA   1141\n",
       "4  2013     1   1      544        -1     1004       -18      B6  N804JB    725\n",
       "5  2013     1   1      554        -6      812       -25      DL  N668DN    461\n",
       "6  2013     1   1      554        -4      740        12      UA  N39463   1696\n",
       "7  2013     1   1      555        -5      913        19      B6  N516JB    507\n",
       "8  2013     1   1      557        -3      709       -14      EV  N829AS   5708\n",
       "9  2013     1   1      557        -3      838        -8      B6  N593JB     79\n",
       "10 2013     1   1      558        -2      753         8      AA  N3ALAA    301\n",
       "Variables not shown: origin (chr), dest (chr), air_time (dbl), distance (dbl),\n",
       "  hour (dbl), minute (dbl)"
      ]
     },
     "execution_count": 7,
     "metadata": {},
     "output_type": "execute_result"
    }
   ],
   "source": [
    "slice(flights, 1:10)"
   ]
  },
  {
   "cell_type": "markdown",
   "metadata": {},
   "source": [
    "# Arrange rows with arrange(), sort()\n",
    "\n",
    "arrange() works similarly to filter() except that instead of filtering or selecting rows, it reorders them. It takes a data frame, and a set of column names (or more complicated expressions) to order by. If you provide more than one column name, each additional column will be used to break ties in the values of preceding columns:"
   ]
  },
  {
   "cell_type": "code",
   "execution_count": 8,
   "metadata": {
    "collapsed": false
   },
   "outputs": [
    {
     "data": {
      "text/plain": [
       "Source: local data frame [336,776 x 16]\n",
       "\n",
       "   year month day dep_time dep_delay arr_time arr_delay carrier tailnum flight\n",
       "1  2013     1   1      517         2      830        11      UA  N14228   1545\n",
       "2  2013     1   1      533         4      850        20      UA  N24211   1714\n",
       "3  2013     1   1      542         2      923        33      AA  N619AA   1141\n",
       "4  2013     1   1      544        -1     1004       -18      B6  N804JB    725\n",
       "5  2013     1   1      554        -6      812       -25      DL  N668DN    461\n",
       "6  2013     1   1      554        -4      740        12      UA  N39463   1696\n",
       "7  2013     1   1      555        -5      913        19      B6  N516JB    507\n",
       "8  2013     1   1      557        -3      709       -14      EV  N829AS   5708\n",
       "9  2013     1   1      557        -3      838        -8      B6  N593JB     79\n",
       "10 2013     1   1      558        -2      753         8      AA  N3ALAA    301\n",
       "..  ...   ... ...      ...       ...      ...       ...     ...     ...    ...\n",
       "Variables not shown: origin (chr), dest (chr), air_time (dbl), distance (dbl),\n",
       "  hour (dbl), minute (dbl)"
      ]
     },
     "execution_count": 8,
     "metadata": {},
     "output_type": "execute_result"
    }
   ],
   "source": [
    "arrange(flights, year, month, day) "
   ]
  },
  {
   "cell_type": "markdown",
   "metadata": {},
   "source": [
    "Use desc() to order a column in descending order:"
   ]
  },
  {
   "cell_type": "code",
   "execution_count": 9,
   "metadata": {
    "collapsed": false
   },
   "outputs": [
    {
     "data": {
      "text/plain": [
       "Source: local data frame [336,776 x 16]\n",
       "\n",
       "   year month day dep_time dep_delay arr_time arr_delay carrier tailnum flight\n",
       "1  2013     1   9      641      1301     1242      1272      HA  N384HA     51\n",
       "2  2013     6  15     1432      1137     1607      1127      MQ  N504MQ   3535\n",
       "3  2013     1  10     1121      1126     1239      1109      MQ  N517MQ   3695\n",
       "4  2013     9  20     1139      1014     1457      1007      AA  N338AA    177\n",
       "5  2013     7  22      845      1005     1044       989      MQ  N665MQ   3075\n",
       "6  2013     4  10     1100       960     1342       931      DL  N959DL   2391\n",
       "7  2013     3  17     2321       911      135       915      DL  N927DA   2119\n",
       "8  2013     7  22     2257       898      121       895      DL  N6716C   2047\n",
       "9  2013    12   5      756       896     1058       878      AA  N5DMAA    172\n",
       "10 2013     5   3     1133       878     1250       875      MQ  N523MQ   3744\n",
       "..  ...   ... ...      ...       ...      ...       ...     ...     ...    ...\n",
       "Variables not shown: origin (chr), dest (chr), air_time (dbl), distance (dbl),\n",
       "  hour (dbl), minute (dbl)"
      ]
     },
     "execution_count": 9,
     "metadata": {},
     "output_type": "execute_result"
    }
   ],
   "source": [
    "arrange(flights, desc(arr_delay))"
   ]
  },
  {
   "cell_type": "markdown",
   "metadata": {},
   "source": [
    "# Select columns with select()\n",
    "\n",
    "Often you work with large datasets with many columns where only a few are actually of interest to you. select() allows you to rapidly zoom in on a useful subset using operations that usually only work on numeric variable positions:"
   ]
  },
  {
   "cell_type": "code",
   "execution_count": 10,
   "metadata": {
    "collapsed": false
   },
   "outputs": [
    {
     "data": {
      "text/plain": [
       "Source: local data frame [336,776 x 3]\n",
       "\n",
       "   year month day\n",
       "1  2013     1   1\n",
       "2  2013     1   1\n",
       "3  2013     1   1\n",
       "4  2013     1   1\n",
       "5  2013     1   1\n",
       "6  2013     1   1\n",
       "7  2013     1   1\n",
       "8  2013     1   1\n",
       "9  2013     1   1\n",
       "10 2013     1   1\n",
       "..  ...   ... ..."
      ]
     },
     "execution_count": 10,
     "metadata": {},
     "output_type": "execute_result"
    }
   ],
   "source": [
    "select(flights, year, month, day) "
   ]
  },
  {
   "cell_type": "code",
   "execution_count": 11,
   "metadata": {
    "collapsed": false
   },
   "outputs": [
    {
     "data": {
      "text/plain": [
       "Source: local data frame [336,776 x 3]\n",
       "\n",
       "   year month day\n",
       "1  2013     1   1\n",
       "2  2013     1   1\n",
       "3  2013     1   1\n",
       "4  2013     1   1\n",
       "5  2013     1   1\n",
       "6  2013     1   1\n",
       "7  2013     1   1\n",
       "8  2013     1   1\n",
       "9  2013     1   1\n",
       "10 2013     1   1\n",
       "..  ...   ... ..."
      ]
     },
     "execution_count": 11,
     "metadata": {},
     "output_type": "execute_result"
    }
   ],
   "source": [
    "select(flights, year:day) "
   ]
  },
  {
   "cell_type": "code",
   "execution_count": 12,
   "metadata": {
    "collapsed": false
   },
   "outputs": [
    {
     "data": {
      "text/plain": [
       "Source: local data frame [336,776 x 13]\n",
       "\n",
       "   dep_time dep_delay arr_time arr_delay carrier tailnum flight origin dest\n",
       "1       517         2      830        11      UA  N14228   1545    EWR  IAH\n",
       "2       533         4      850        20      UA  N24211   1714    LGA  IAH\n",
       "3       542         2      923        33      AA  N619AA   1141    JFK  MIA\n",
       "4       544        -1     1004       -18      B6  N804JB    725    JFK  BQN\n",
       "5       554        -6      812       -25      DL  N668DN    461    LGA  ATL\n",
       "6       554        -4      740        12      UA  N39463   1696    EWR  ORD\n",
       "7       555        -5      913        19      B6  N516JB    507    EWR  FLL\n",
       "8       557        -3      709       -14      EV  N829AS   5708    LGA  IAD\n",
       "9       557        -3      838        -8      B6  N593JB     79    JFK  MCO\n",
       "10      558        -2      753         8      AA  N3ALAA    301    LGA  ORD\n",
       "..      ...       ...      ...       ...     ...     ...    ...    ...  ...\n",
       "Variables not shown: air_time (dbl), distance (dbl), hour (dbl), minute (dbl)"
      ]
     },
     "execution_count": 12,
     "metadata": {},
     "output_type": "execute_result"
    }
   ],
   "source": [
    "select(flights, -(year:day)) "
   ]
  },
  {
   "cell_type": "code",
   "execution_count": 13,
   "metadata": {
    "collapsed": false
   },
   "outputs": [
    {
     "data": {
      "text/plain": [
       "Source: local data frame [336,776 x 1]\n",
       "\n",
       "   tail_num\n",
       "1    N14228\n",
       "2    N24211\n",
       "3    N619AA\n",
       "4    N804JB\n",
       "5    N668DN\n",
       "6    N39463\n",
       "7    N516JB\n",
       "8    N829AS\n",
       "9    N593JB\n",
       "10   N3ALAA\n",
       "..      ..."
      ]
     },
     "execution_count": 13,
     "metadata": {},
     "output_type": "execute_result"
    }
   ],
   "source": [
    "select(flights, tail_num = tailnum)"
   ]
  },
  {
   "cell_type": "markdown",
   "metadata": {},
   "source": [
    "But like Hadley mentions, not that useful since it only returns the one column. ``dplyr`` and ``pandas`` compare well here."
   ]
  },
  {
   "cell_type": "code",
   "execution_count": 14,
   "metadata": {
    "collapsed": false
   },
   "outputs": [
    {
     "data": {
      "text/plain": [
       "Source: local data frame [336,776 x 16]\n",
       "\n",
       "   year month day dep_time dep_delay arr_time arr_delay carrier tail_num flight\n",
       "1  2013     1   1      517         2      830        11      UA   N14228   1545\n",
       "2  2013     1   1      533         4      850        20      UA   N24211   1714\n",
       "3  2013     1   1      542         2      923        33      AA   N619AA   1141\n",
       "4  2013     1   1      544        -1     1004       -18      B6   N804JB    725\n",
       "5  2013     1   1      554        -6      812       -25      DL   N668DN    461\n",
       "6  2013     1   1      554        -4      740        12      UA   N39463   1696\n",
       "7  2013     1   1      555        -5      913        19      B6   N516JB    507\n",
       "8  2013     1   1      557        -3      709       -14      EV   N829AS   5708\n",
       "9  2013     1   1      557        -3      838        -8      B6   N593JB     79\n",
       "10 2013     1   1      558        -2      753         8      AA   N3ALAA    301\n",
       "..  ...   ... ...      ...       ...      ...       ...     ...      ...    ...\n",
       "Variables not shown: origin (chr), dest (chr), air_time (dbl), distance (dbl),\n",
       "  hour (dbl), minute (dbl)"
      ]
     },
     "execution_count": 14,
     "metadata": {},
     "output_type": "execute_result"
    }
   ],
   "source": [
    "rename(flights, tail_num = tailnum)"
   ]
  },
  {
   "cell_type": "markdown",
   "metadata": {},
   "source": [
    "# Extract distinct (unique) rows "
   ]
  },
  {
   "cell_type": "code",
   "execution_count": 15,
   "metadata": {
    "collapsed": false
   },
   "outputs": [
    {
     "data": {
      "text/plain": [
       "Source: local data frame [4,044 x 1]\n",
       "\n",
       "   tailnum\n",
       "1   N14228\n",
       "2   N24211\n",
       "3   N619AA\n",
       "4   N804JB\n",
       "5   N668DN\n",
       "6   N39463\n",
       "7   N516JB\n",
       "8   N829AS\n",
       "9   N593JB\n",
       "10  N3ALAA\n",
       "..     ..."
      ]
     },
     "execution_count": 15,
     "metadata": {},
     "output_type": "execute_result"
    }
   ],
   "source": [
    "distinct(select(flights, tailnum))"
   ]
  },
  {
   "cell_type": "markdown",
   "metadata": {},
   "source": [
    "FYI this returns a numpy array instead of a Series."
   ]
  },
  {
   "cell_type": "code",
   "execution_count": 16,
   "metadata": {
    "collapsed": false
   },
   "outputs": [
    {
     "data": {
      "text/plain": [
       "Source: local data frame [224 x 2]\n",
       "\n",
       "   origin dest\n",
       "1     EWR  IAH\n",
       "2     LGA  IAH\n",
       "3     JFK  MIA\n",
       "4     JFK  BQN\n",
       "5     LGA  ATL\n",
       "6     EWR  ORD\n",
       "7     EWR  FLL\n",
       "8     LGA  IAD\n",
       "9     JFK  MCO\n",
       "10    LGA  ORD\n",
       "..    ...  ..."
      ]
     },
     "execution_count": 16,
     "metadata": {},
     "output_type": "execute_result"
    }
   ],
   "source": [
    "distinct(select(flights, origin, dest))"
   ]
  },
  {
   "cell_type": "markdown",
   "metadata": {},
   "source": [
    "# Add new columns with mutate() "
   ]
  },
  {
   "cell_type": "code",
   "execution_count": 17,
   "metadata": {
    "collapsed": false
   },
   "outputs": [
    {
     "data": {
      "text/plain": [
       "Source: local data frame [336,776 x 18]\n",
       "\n",
       "   year month day dep_time dep_delay arr_time arr_delay carrier tailnum flight\n",
       "1  2013     1   1      517         2      830        11      UA  N14228   1545\n",
       "2  2013     1   1      533         4      850        20      UA  N24211   1714\n",
       "3  2013     1   1      542         2      923        33      AA  N619AA   1141\n",
       "4  2013     1   1      544        -1     1004       -18      B6  N804JB    725\n",
       "5  2013     1   1      554        -6      812       -25      DL  N668DN    461\n",
       "6  2013     1   1      554        -4      740        12      UA  N39463   1696\n",
       "7  2013     1   1      555        -5      913        19      B6  N516JB    507\n",
       "8  2013     1   1      557        -3      709       -14      EV  N829AS   5708\n",
       "9  2013     1   1      557        -3      838        -8      B6  N593JB     79\n",
       "10 2013     1   1      558        -2      753         8      AA  N3ALAA    301\n",
       "..  ...   ... ...      ...       ...      ...       ...     ...     ...    ...\n",
       "Variables not shown: origin (chr), dest (chr), air_time (dbl), distance (dbl),\n",
       "  hour (dbl), minute (dbl), gain (dbl), speed (dbl)"
      ]
     },
     "execution_count": 17,
     "metadata": {},
     "output_type": "execute_result"
    }
   ],
   "source": [
    "mutate(flights, gain = arr_delay - dep_delay, speed = distance / air_time * 60)"
   ]
  },
  {
   "cell_type": "code",
   "execution_count": 18,
   "metadata": {
    "collapsed": false
   },
   "outputs": [
    {
     "data": {
      "text/plain": [
       "Source: local data frame [336,776 x 18]\n",
       "\n",
       "   year month day dep_time dep_delay arr_time arr_delay carrier tailnum flight\n",
       "1  2013     1   1      517         2      830        11      UA  N14228   1545\n",
       "2  2013     1   1      533         4      850        20      UA  N24211   1714\n",
       "3  2013     1   1      542         2      923        33      AA  N619AA   1141\n",
       "4  2013     1   1      544        -1     1004       -18      B6  N804JB    725\n",
       "5  2013     1   1      554        -6      812       -25      DL  N668DN    461\n",
       "6  2013     1   1      554        -4      740        12      UA  N39463   1696\n",
       "7  2013     1   1      555        -5      913        19      B6  N516JB    507\n",
       "8  2013     1   1      557        -3      709       -14      EV  N829AS   5708\n",
       "9  2013     1   1      557        -3      838        -8      B6  N593JB     79\n",
       "10 2013     1   1      558        -2      753         8      AA  N3ALAA    301\n",
       "..  ...   ... ...      ...       ...      ...       ...     ...     ...    ...\n",
       "Variables not shown: origin (chr), dest (chr), air_time (dbl), distance (dbl),\n",
       "  hour (dbl), minute (dbl), gain (dbl), gain_per_hour (dbl)"
      ]
     },
     "execution_count": 18,
     "metadata": {},
     "output_type": "execute_result"
    }
   ],
   "source": [
    "mutate(flights, gain = arr_delay - dep_delay, gain_per_hour = gain / (air_time / 60) )\n"
   ]
  },
  {
   "cell_type": "code",
   "execution_count": 19,
   "metadata": {
    "collapsed": false
   },
   "outputs": [
    {
     "ename": "ERROR",
     "evalue": "Error in eval(expr, envir, enclos): objet 'flights.arr_delay' introuvable\n",
     "output_type": "error",
     "traceback": [
      "Error in eval(expr, envir, enclos): objet 'flights.arr_delay' introuvable\n"
     ]
    },
    {
     "ename": "ERROR",
     "evalue": "Error in eval(expr, envir, enclos): objet 'flights.gain' introuvable\n",
     "output_type": "error",
     "traceback": [
      "Error in eval(expr, envir, enclos): objet 'flights.gain' introuvable\n"
     ]
    },
    {
     "data": {
      "text/plain": [
       "Source: local data frame [336,776 x 16]\n",
       "\n",
       "   year month day dep_time dep_delay arr_time arr_delay carrier tailnum flight\n",
       "1  2013     1   1      517         2      830        11      UA  N14228   1545\n",
       "2  2013     1   1      533         4      850        20      UA  N24211   1714\n",
       "3  2013     1   1      542         2      923        33      AA  N619AA   1141\n",
       "4  2013     1   1      544        -1     1004       -18      B6  N804JB    725\n",
       "5  2013     1   1      554        -6      812       -25      DL  N668DN    461\n",
       "6  2013     1   1      554        -4      740        12      UA  N39463   1696\n",
       "7  2013     1   1      555        -5      913        19      B6  N516JB    507\n",
       "8  2013     1   1      557        -3      709       -14      EV  N829AS   5708\n",
       "9  2013     1   1      557        -3      838        -8      B6  N593JB     79\n",
       "10 2013     1   1      558        -2      753         8      AA  N3ALAA    301\n",
       "..  ...   ... ...      ...       ...      ...       ...     ...     ...    ...\n",
       "Variables not shown: origin (chr), dest (chr), air_time (dbl), distance (dbl),\n",
       "  hour (dbl), minute (dbl)"
      ]
     },
     "execution_count": 19,
     "metadata": {},
     "output_type": "execute_result"
    }
   ],
   "source": [
    "# mutate(flights,\n",
    "#   gain = arr_delay - dep_delay,\n",
    "#   gain_per_hour = gain / (air_time / 60)\n",
    "# )\n",
    "\n",
    "flights['gain'] = flights.arr_delay - flights.dep_delay\n",
    "flights['gain_per_hour'] = flights.gain / (flights.air_time / 60)\n",
    "flights"
   ]
  },
  {
   "cell_type": "markdown",
   "metadata": {},
   "source": [
    "``dplyr's`` approach may be nicer here since you get to refer to the variables in subsequent statements within the ``mutate()``. To achieve this with pandas, you have to add the `gain` variable as another column in ``flights``. If I don't want it around I would have to explicitly drop it."
   ]
  },
  {
   "cell_type": "code",
   "execution_count": 20,
   "metadata": {
    "collapsed": false
   },
   "outputs": [
    {
     "data": {
      "text/plain": [
       "Source: local data frame [336,776 x 2]\n",
       "\n",
       "   gain gain_per_hour\n",
       "1     9      2.378855\n",
       "2    16      4.229075\n",
       "3    31     11.625000\n",
       "4   -17     -5.573770\n",
       "5   -19     -9.827586\n",
       "6    16      6.400000\n",
       "7    24      9.113924\n",
       "8   -11    -12.452830\n",
       "9    -5     -2.142857\n",
       "10   10      4.347826\n",
       "..  ...           ..."
      ]
     },
     "execution_count": 20,
     "metadata": {},
     "output_type": "execute_result"
    }
   ],
   "source": [
    "transmute(flights,  gain = arr_delay - dep_delay,  gain_per_hour = gain / (air_time / 60)  )"
   ]
  },
  {
   "cell_type": "markdown",
   "metadata": {},
   "source": [
    "# Summarise values with summarise()"
   ]
  },
  {
   "cell_type": "code",
   "execution_count": 21,
   "metadata": {
    "collapsed": false
   },
   "outputs": [
    {
     "data": {
      "text/plain": [
       "Source: local data frame [1 x 1]\n",
       "\n",
       "     delay\n",
       "1 12.63907"
      ]
     },
     "execution_count": 21,
     "metadata": {},
     "output_type": "execute_result"
    }
   ],
   "source": [
    "summarise(flights,\n",
    "  delay = mean(dep_delay, na.rm = TRUE))"
   ]
  },
  {
   "cell_type": "markdown",
   "metadata": {},
   "source": [
    "# Randomly sample rows with sample_n() and sample_frac()"
   ]
  },
  {
   "cell_type": "code",
   "execution_count": 22,
   "metadata": {
    "collapsed": false
   },
   "outputs": [
    {
     "data": {
      "text/plain": [
       "Source: local data frame [10 x 16]\n",
       "\n",
       "   year month day dep_time dep_delay arr_time arr_delay carrier tailnum flight\n",
       "1  2013     6  29     1813         3     1958       -37      WN  N496WN   3327\n",
       "2  2013    11   1     1813        -2     1956       -25      DL  N369NW   2019\n",
       "3  2013     9  19       NA        NA       NA        NA      AA  N4YEAA    371\n",
       "4  2013     9   9      925        -4     1158       -22      UA  N479UA    316\n",
       "5  2013     8  28     2128        48     2326        27      EV  N12163   4085\n",
       "6  2013     7  23     1139       219     1250       221      B6  N192JB   1491\n",
       "7  2013     3  13     1156        -9     1316       -29      WN  N285WN   1791\n",
       "8  2013    12   7      809        -2     1047       -19      B6  N589JB   1783\n",
       "9  2013    10   7     1303        14     1516         4      UA  N23708   1444\n",
       "10 2013    10  24     1354        -5     1510       -13      B6  N324JB   2402\n",
       "Variables not shown: origin (chr), dest (chr), air_time (dbl), distance (dbl),\n",
       "  hour (dbl), minute (dbl)"
      ]
     },
     "execution_count": 22,
     "metadata": {},
     "output_type": "execute_result"
    }
   ],
   "source": [
    "sample_n(flights, 10)"
   ]
  },
  {
   "cell_type": "code",
   "execution_count": 23,
   "metadata": {
    "collapsed": false
   },
   "outputs": [
    {
     "data": {
      "text/plain": [
       "Source: local data frame [3,368 x 16]\n",
       "\n",
       "   year month day dep_time dep_delay arr_time arr_delay carrier tailnum flight\n",
       "1  2013     4  26     1118         3     1309        19      WN  N227WN   3421\n",
       "2  2013    10   2     1736        17     1910         8      EV  N14998   4202\n",
       "3  2013    12  12     1706         0     1956       -20      UA  N434UA    525\n",
       "4  2013     2   5     1655        -5     1801       -23      UA  N77525   1064\n",
       "5  2013    12  23      727        -3     1040       -25      VX  N852VA    183\n",
       "6  2013     6  26     1715        -5     1935         5      DL  N949DL   2331\n",
       "7  2013     8  21      624        -4      841       -25      UA  N33264   1144\n",
       "8  2013     2   4     1925       -10     2208       -32      AA  N3BKAA    791\n",
       "9  2013     6   3     1135         0     1257         2      MQ  N0EGMQ   4661\n",
       "10 2013     9  12     1321        -4     1444        10      B6  N192JB    308\n",
       "..  ...   ... ...      ...       ...      ...       ...     ...     ...    ...\n",
       "Variables not shown: origin (chr), dest (chr), air_time (dbl), distance (dbl),\n",
       "  hour (dbl), minute (dbl)"
      ]
     },
     "execution_count": 23,
     "metadata": {},
     "output_type": "execute_result"
    }
   ],
   "source": [
    "sample_frac(flights, 0.01)"
   ]
  },
  {
   "cell_type": "markdown",
   "metadata": {},
   "source": [
    "# Grouped operations "
   ]
  },
  {
   "cell_type": "code",
   "execution_count": 24,
   "metadata": {
    "collapsed": false
   },
   "outputs": [
    {
     "name": "stderr",
     "output_type": "stream",
     "text": [
      "geom_smooth: method=\"auto\" and size of largest group is >=1000, so using gam with formula: y ~ s(x, bs = \"cs\"). Use 'method = x' to change the smoothing method.\n",
      "Warning message:\n",
      ": Removed 1 rows containing missing values (stat_smooth).Warning message:\n",
      ": Removed 1 rows containing missing values (geom_point)."
     ]
    },
    {
     "data": {
      "text/plain": []
     },
     "execution_count": 24,
     "metadata": {},
     "output_type": "execute_result"
    },
    {
     "data": {
      "image/png": "[encoded data removed]"
     },
     "metadata": {},
     "output_type": "display_data"
    }
   ],
   "source": [
    "library(\"ggplot2\")\n",
    "\n",
    "by_tailnum <- group_by(flights, tailnum)\n",
    "delay <- summarise(by_tailnum,\n",
    "  count = n(),\n",
    "  dist = mean(distance, na.rm = TRUE),\n",
    "  delay = mean(arr_delay, na.rm = TRUE))\n",
    "delay <- filter(delay, count > 20, dist < 2000)\n",
    "\n",
    "# Interestingly, the average delay is only slightly related to the\n",
    "# average distance flown by a plane.\n",
    "ggplot(delay, aes(dist, delay)) +\n",
    "  geom_point(aes(size = count), alpha = 1/2) +\n",
    "  geom_smooth() +\n",
    "  scale_size_area()"
   ]
  },
  {
   "cell_type": "code",
   "execution_count": 25,
   "metadata": {
    "collapsed": false
   },
   "outputs": [
    {
     "data": {
      "text/plain": [
       "Source: local data frame [105 x 3]\n",
       "\n",
       "   dest planes flights\n",
       "1   ABQ    108     254\n",
       "2   ACK     58     265\n",
       "3   ALB    172     439\n",
       "4   ANC      6       8\n",
       "5   ATL   1180   17215\n",
       "6   AUS    993    2439\n",
       "7   AVL    159     275\n",
       "8   BDL    186     443\n",
       "9   BGR     46     375\n",
       "10  BHM     45     297\n",
       "..  ...    ...     ..."
      ]
     },
     "execution_count": 25,
     "metadata": {},
     "output_type": "execute_result"
    }
   ],
   "source": [
    "destinations <- group_by(flights, dest)\n",
    "summarise(destinations,\n",
    "  planes = n_distinct(tailnum),\n",
    "  flights = n()\n",
    ")"
   ]
  },
  {
   "cell_type": "code",
   "execution_count": 26,
   "metadata": {
    "collapsed": false
   },
   "outputs": [
    {
     "data": {
      "text/plain": [
       "Source: local data frame [49 x 5]\n",
       "Groups: year, month\n",
       "\n",
       "   year month day      arr      dep\n",
       "1  2013     1  16 34.24736 24.61287\n",
       "2  2013     1  31 32.60285 28.65836\n",
       "3  2013     2  11 36.29009 39.07360\n",
       "4  2013     2  27 31.25249 37.76327\n",
       "5  2013     3   8 85.86216 83.53692\n",
       "6  2013     3  18 41.29189 30.11796\n",
       "7  2013     4  10 38.41231 33.02368\n",
       "8  2013     4  12 36.04814 34.83843\n",
       "9  2013     4  18 36.02848 34.91536\n",
       "10 2013     4  19 47.91170 46.12783\n",
       "..  ...   ... ...      ...      ..."
      ]
     },
     "execution_count": 26,
     "metadata": {},
     "output_type": "execute_result"
    }
   ],
   "source": [
    "filter(\n",
    "  summarise(\n",
    "    select(\n",
    "      group_by(flights, year, month, day),\n",
    "      arr_delay, dep_delay\n",
    "    ),\n",
    "    arr = mean(arr_delay, na.rm = TRUE),\n",
    "    dep = mean(dep_delay, na.rm = TRUE)\n",
    "  ),\n",
    "  arr > 30 | dep > 30\n",
    ")"
   ]
  },
  {
   "cell_type": "markdown",
   "metadata": {},
   "source": [
    "Similar to how ``dplyr`` provides optimized C++ versions of most of the `summarise` functions, pandas uses [cython](http://cython.org) optimized versions for most of the `agg` methods."
   ]
  },
  {
   "cell_type": "code",
   "execution_count": 27,
   "metadata": {
    "collapsed": false
   },
   "outputs": [
    {
     "data": {
      "text/plain": [
       "Source: local data frame [365 x 4]\n",
       "Groups: year, month\n",
       "\n",
       "   year month day flights\n",
       "1  2013     1   1     842\n",
       "2  2013     1   2     943\n",
       "3  2013     1   3     914\n",
       "4  2013     1   4     915\n",
       "5  2013     1   5     720\n",
       "6  2013     1   6     832\n",
       "7  2013     1   7     933\n",
       "8  2013     1   8     899\n",
       "9  2013     1   9     902\n",
       "10 2013     1  10     932\n",
       "..  ...   ... ...     ..."
      ]
     },
     "execution_count": 27,
     "metadata": {},
     "output_type": "execute_result"
    }
   ],
   "source": [
    "daily <- group_by(flights, year, month, day)\n",
    "(per_day   <- summarise(daily, flights = n()))"
   ]
  },
  {
   "cell_type": "code",
   "execution_count": 28,
   "metadata": {
    "collapsed": false
   },
   "outputs": [
    {
     "data": {
      "text/plain": [
       "Source: local data frame [12 x 3]\n",
       "Groups: year\n",
       "\n",
       "   year month flights\n",
       "1  2013     1   27004\n",
       "2  2013     2   24951\n",
       "3  2013     3   28834\n",
       "4  2013     4   28330\n",
       "5  2013     5   28796\n",
       "6  2013     6   28243\n",
       "7  2013     7   29425\n",
       "8  2013     8   29327\n",
       "9  2013     9   27574\n",
       "10 2013    10   28889\n",
       "11 2013    11   27268\n",
       "12 2013    12   28135"
      ]
     },
     "execution_count": 28,
     "metadata": {},
     "output_type": "execute_result"
    }
   ],
   "source": [
    "(per_month <- summarise(per_day, flights = sum(flights)))"
   ]
  },
  {
   "cell_type": "code",
   "execution_count": 29,
   "metadata": {
    "collapsed": false
   },
   "outputs": [
    {
     "data": {
      "text/plain": [
       "Source: local data frame [1 x 2]\n",
       "\n",
       "  year flights\n",
       "1 2013  336776"
      ]
     },
     "execution_count": 29,
     "metadata": {},
     "output_type": "execute_result"
    }
   ],
   "source": [
    "(per_year  <- summarise(per_month, flights = sum(flights)))"
   ]
  },
  {
   "cell_type": "markdown",
   "metadata": {},
   "source": [
    "I'm not sure how ``dplyr`` is handling the other columns, like `year`, in the last example. With pandas, it's clear that we're grouping by them since they're included in the groupby. For the last example, we didn't group by anything, so they aren't included in the result."
   ]
  },
  {
   "cell_type": "markdown",
   "metadata": {},
   "source": [
    "# Chaining"
   ]
  },
  {
   "cell_type": "markdown",
   "metadata": {},
   "source": [
    "Any follower of Hadley's [twitter account](https://twitter.com/hadleywickham/) will know how much R users *love* the ``%>%`` (pipe) operator. And for good reason!"
   ]
  },
  {
   "cell_type": "code",
   "execution_count": 30,
   "metadata": {
    "collapsed": false
   },
   "outputs": [
    {
     "data": {
      "text/plain": [
       "Source: local data frame [49 x 5]\n",
       "Groups: year, month\n",
       "\n",
       "   year month day      arr      dep\n",
       "1  2013     1  16 34.24736 24.61287\n",
       "2  2013     1  31 32.60285 28.65836\n",
       "3  2013     2  11 36.29009 39.07360\n",
       "4  2013     2  27 31.25249 37.76327\n",
       "5  2013     3   8 85.86216 83.53692\n",
       "6  2013     3  18 41.29189 30.11796\n",
       "7  2013     4  10 38.41231 33.02368\n",
       "8  2013     4  12 36.04814 34.83843\n",
       "9  2013     4  18 36.02848 34.91536\n",
       "10 2013     4  19 47.91170 46.12783\n",
       "..  ...   ... ...      ...      ..."
      ]
     },
     "execution_count": 30,
     "metadata": {},
     "output_type": "execute_result"
    }
   ],
   "source": [
    "flights %>%\n",
    "  group_by(year, month, day) %>%\n",
    "  select(arr_delay, dep_delay) %>%\n",
    "  summarise(\n",
    "    arr = mean(arr_delay, na.rm = TRUE),\n",
    "    dep = mean(dep_delay, na.rm = TRUE)\n",
    "  ) %>%\n",
    "  filter(arr > 30 | dep > 30)"
   ]
  },
  {
   "cell_type": "markdown",
   "metadata": {},
   "source": [
    "# Other Data Sources"
   ]
  },
  {
   "cell_type": "markdown",
   "metadata": {},
   "source": [
    "Pandas has tons [IO tools](http://pandas.pydata.org/pandas-docs/version/0.15.0/io.html) to help you get data in and out, including SQL databases via [SQLAlchemy](http://www.sqlalchemy.org)."
   ]
  },
  {
   "cell_type": "markdown",
   "metadata": {},
   "source": [
    "# Summary"
   ]
  },
  {
   "cell_type": "markdown",
   "metadata": {},
   "source": [
    "I think pandas held up pretty well, considering this was a vignette written for dplyr. I found the degree of similarity more interesting than the differences. The most difficult task was renaming of columns within an operation; they had to be followed up with a call to ``rename`` *after* the operation, which isn't that burdensome honestly.\n",
    "\n",
    "More and more it looks like we're moving towards future where being a language or package partisan just doesn't make sense. Not when you can load up a [Jupyter](http://jupyter.org) (formerly IPython) notebook to call up a library written in R, and hand those results off to python or Julia or whatever for followup, before going back to R to make a cool [shiny](http://shiny.rstudio.com) web app.\n",
    "\n",
    "There will always be a place for your \"utility belt\" package like dplyr or pandas, but it wouldn't hurt to be familiar with both.\n",
    "\n",
    "If you want to contribute to pandas, we're always looking for help at https://github.com/pydata/pandas/.\n",
    "You can get ahold of me directly on [twitter](https://twitter.com/tomaugspurger)."
   ]
  },
  {
   "cell_type": "code",
   "execution_count": 56,
   "metadata": {
    "collapsed": false
   },
   "outputs": [],
   "source": []
  }
 ],
 "metadata": {
  "kernelspec": {
   "display_name": "R",
   "language": "",
   "name": "ir"
  },
  "language_info": {
   "codemirror_mode": "r",
   "file_extension": ".r",
   "mimetype": "text/x-r-source",
   "name": "R",
   "pygments_lexer": "r",
   "version": "3.1.2"
  }
 },
 "nbformat": 4,
 "nbformat_minor": 0
}
